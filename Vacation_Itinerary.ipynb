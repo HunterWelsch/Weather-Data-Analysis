{
 "cells": [
  {
   "cell_type": "code",
   "execution_count": 5,
   "metadata": {},
   "outputs": [],
   "source": [
    "# Import the dependencies.\n",
    "import pandas as pd\n",
    "import gmaps\n",
    "import gmaps.datasets\n",
    "import requests\n",
    "# Import the API key.\n",
    "from config import g_key\n",
    "\n",
    "# Configure gmaps to use your Google API key.\n",
    "gmaps.configure(api_key=g_key)"
   ]
  },
  {
   "cell_type": "code",
   "execution_count": 6,
   "metadata": {},
   "outputs": [
    {
     "data": {
      "text/html": [
       "<div>\n",
       "<style scoped>\n",
       "    .dataframe tbody tr th:only-of-type {\n",
       "        vertical-align: middle;\n",
       "    }\n",
       "\n",
       "    .dataframe tbody tr th {\n",
       "        vertical-align: top;\n",
       "    }\n",
       "\n",
       "    .dataframe thead th {\n",
       "        text-align: right;\n",
       "    }\n",
       "</style>\n",
       "<table border=\"1\" class=\"dataframe\">\n",
       "  <thead>\n",
       "    <tr style=\"text-align: right;\">\n",
       "      <th></th>\n",
       "      <th>City_ID</th>\n",
       "      <th>City</th>\n",
       "      <th>Country</th>\n",
       "      <th>Max Temp</th>\n",
       "      <th>Current Description</th>\n",
       "      <th>Lat</th>\n",
       "      <th>Lng</th>\n",
       "      <th>Hotel Name</th>\n",
       "    </tr>\n",
       "  </thead>\n",
       "  <tbody>\n",
       "    <tr>\n",
       "      <td>0</td>\n",
       "      <td>0</td>\n",
       "      <td>Punta Arenas</td>\n",
       "      <td>CL</td>\n",
       "      <td>59.00</td>\n",
       "      <td>light rain</td>\n",
       "      <td>-53.16</td>\n",
       "      <td>-70.91</td>\n",
       "      <td>Hotel Dreams Del Estrecho</td>\n",
       "    </tr>\n",
       "    <tr>\n",
       "      <td>1</td>\n",
       "      <td>2</td>\n",
       "      <td>Yanliang</td>\n",
       "      <td>CN</td>\n",
       "      <td>45.00</td>\n",
       "      <td>clear sky</td>\n",
       "      <td>34.66</td>\n",
       "      <td>109.22</td>\n",
       "      <td>Pod Inn Xi'an Yanliang Renmin Road</td>\n",
       "    </tr>\n",
       "    <tr>\n",
       "      <td>2</td>\n",
       "      <td>5</td>\n",
       "      <td>Cheyenne</td>\n",
       "      <td>US</td>\n",
       "      <td>59.00</td>\n",
       "      <td>clear sky</td>\n",
       "      <td>41.14</td>\n",
       "      <td>-104.82</td>\n",
       "      <td>The Historic Plains Hotel</td>\n",
       "    </tr>\n",
       "    <tr>\n",
       "      <td>3</td>\n",
       "      <td>10</td>\n",
       "      <td>Ushuaia</td>\n",
       "      <td>AR</td>\n",
       "      <td>60.80</td>\n",
       "      <td>few clouds</td>\n",
       "      <td>-54.81</td>\n",
       "      <td>-68.31</td>\n",
       "      <td>Albatros Hotel</td>\n",
       "    </tr>\n",
       "    <tr>\n",
       "      <td>4</td>\n",
       "      <td>13</td>\n",
       "      <td>Tiznit</td>\n",
       "      <td>MA</td>\n",
       "      <td>65.21</td>\n",
       "      <td>overcast clouds</td>\n",
       "      <td>29.70</td>\n",
       "      <td>-9.73</td>\n",
       "      <td>Hotel Café Restaurant Assaka</td>\n",
       "    </tr>\n",
       "  </tbody>\n",
       "</table>\n",
       "</div>"
      ],
      "text/plain": [
       "   City_ID          City Country  Max Temp Current Description    Lat     Lng  \\\n",
       "0        0  Punta Arenas      CL     59.00          light rain -53.16  -70.91   \n",
       "1        2      Yanliang      CN     45.00           clear sky  34.66  109.22   \n",
       "2        5      Cheyenne      US     59.00           clear sky  41.14 -104.82   \n",
       "3       10       Ushuaia      AR     60.80          few clouds -54.81  -68.31   \n",
       "4       13        Tiznit      MA     65.21     overcast clouds  29.70   -9.73   \n",
       "\n",
       "                           Hotel Name  \n",
       "0           Hotel Dreams Del Estrecho  \n",
       "1  Pod Inn Xi'an Yanliang Renmin Road  \n",
       "2           The Historic Plains Hotel  \n",
       "3                      Albatros Hotel  \n",
       "4        Hotel Café Restaurant Assaka  "
      ]
     },
     "execution_count": 6,
     "metadata": {},
     "output_type": "execute_result"
    }
   ],
   "source": [
    "# Store the CSV you saved created in part one into a DataFrame.\n",
    "city_data_df = pd.read_csv(\"WeatherPy_vacation.csv\")\n",
    "city_data_df.head()"
   ]
  },
  {
   "cell_type": "code",
   "execution_count": 7,
   "metadata": {},
   "outputs": [],
   "source": [
    "# Filter the DataFrame for each city you want to go to and create separate DataFrames for each city.\n",
    "nepomuceno_df = (city_data_df[city_data_df[\"City\"] == \"Coria\"])\n",
    "arrail_do_cabo_df = (city_data_df[city_data_df[\"City\"] == \"Saldanha\"])\n",
    "ilhabela_df = (city_data_df[city_data_df[\"City\"] == \"Areosa\"])\n",
    "porto_novo_df = (city_data_df[city_data_df[\"City\"] == \"Muros\"])\n",
    "\n",
    "nepomuceno_df.iloc[0][\"Lat\"]\n",
    "\n",
    "destinations = [nepomuceno_df, arrail_do_cabo_df, ilhabela_df, porto_novo_df]"
   ]
  },
  {
   "cell_type": "code",
   "execution_count": 9,
   "metadata": {},
   "outputs": [
    {
     "data": {
      "text/plain": [
       "[(39.98, -6.54), (41.42, -6.55), (41.72, -8.86), (42.77, -9.06)]"
      ]
     },
     "execution_count": 9,
     "metadata": {},
     "output_type": "execute_result"
    }
   ],
   "source": [
    "#Iterate through the DataFrame.\n",
    "city_tuples = []\n",
    "\n",
    "for destination in destinations:\n",
    "\n",
    "    lat = destination.iloc[0][\"Lat\"]\n",
    "    lng = destination.iloc[0][\"Lng\"]\n",
    "\n",
    "    city_tuples.append((lat,lng))\n",
    "\n",
    "city_tuples"
   ]
  },
  {
   "cell_type": "code",
   "execution_count": 11,
   "metadata": {},
   "outputs": [
    {
     "data": {
      "application/vnd.jupyter.widget-view+json": {
       "model_id": "9ffc4108acb542a190a0ed1b44958509",
       "version_major": 2,
       "version_minor": 0
      },
      "text/plain": [
       "Figure(layout=FigureLayout(height='420px'))"
      ]
     },
     "metadata": {},
     "output_type": "display_data"
    }
   ],
   "source": [
    "#create map with directions\n",
    "fig = gmaps.figure()\n",
    "\n",
    "start = city_tuples[0]\n",
    "waypoints = [city_tuples[1], city_tuples[2]]\n",
    "end = city_tuples[3]\n",
    "\n",
    "itinerary = gmaps.directions_layer(start = start, end = end, waypoints = waypoints, travel_mode='DRIVING')\n",
    "\n",
    "fig.add_layer(itinerary)\n",
    "\n",
    "fig"
   ]
  },
  {
   "cell_type": "code",
   "execution_count": 12,
   "metadata": {},
   "outputs": [
    {
     "data": {
      "text/html": [
       "<div>\n",
       "<style scoped>\n",
       "    .dataframe tbody tr th:only-of-type {\n",
       "        vertical-align: middle;\n",
       "    }\n",
       "\n",
       "    .dataframe tbody tr th {\n",
       "        vertical-align: top;\n",
       "    }\n",
       "\n",
       "    .dataframe thead th {\n",
       "        text-align: right;\n",
       "    }\n",
       "</style>\n",
       "<table border=\"1\" class=\"dataframe\">\n",
       "  <thead>\n",
       "    <tr style=\"text-align: right;\">\n",
       "      <th></th>\n",
       "      <th>City</th>\n",
       "      <th>Country</th>\n",
       "      <th>Max Temp</th>\n",
       "      <th>Current Description</th>\n",
       "      <th>Lat</th>\n",
       "      <th>Lng</th>\n",
       "      <th>Hotel Name</th>\n",
       "    </tr>\n",
       "    <tr>\n",
       "      <th>City_ID</th>\n",
       "      <th></th>\n",
       "      <th></th>\n",
       "      <th></th>\n",
       "      <th></th>\n",
       "      <th></th>\n",
       "      <th></th>\n",
       "      <th></th>\n",
       "    </tr>\n",
       "  </thead>\n",
       "  <tbody>\n",
       "    <tr>\n",
       "      <td>367</td>\n",
       "      <td>Coria</td>\n",
       "      <td>ES</td>\n",
       "      <td>57.99</td>\n",
       "      <td>clear sky</td>\n",
       "      <td>39.98</td>\n",
       "      <td>-6.54</td>\n",
       "      <td>Hotel San Cristóbal</td>\n",
       "    </tr>\n",
       "    <tr>\n",
       "      <td>101</td>\n",
       "      <td>Saldanha</td>\n",
       "      <td>PT</td>\n",
       "      <td>48.83</td>\n",
       "      <td>scattered clouds</td>\n",
       "      <td>41.42</td>\n",
       "      <td>-6.55</td>\n",
       "      <td>NaN</td>\n",
       "    </tr>\n",
       "    <tr>\n",
       "      <td>516</td>\n",
       "      <td>Areosa</td>\n",
       "      <td>PT</td>\n",
       "      <td>57.20</td>\n",
       "      <td>broken clouds</td>\n",
       "      <td>41.72</td>\n",
       "      <td>-8.86</td>\n",
       "      <td>Hotel Flôr de Sal</td>\n",
       "    </tr>\n",
       "    <tr>\n",
       "      <td>382</td>\n",
       "      <td>Muros</td>\n",
       "      <td>ES</td>\n",
       "      <td>57.00</td>\n",
       "      <td>broken clouds</td>\n",
       "      <td>42.77</td>\n",
       "      <td>-9.06</td>\n",
       "      <td>Apartment Av. Castelao</td>\n",
       "    </tr>\n",
       "  </tbody>\n",
       "</table>\n",
       "</div>"
      ],
      "text/plain": [
       "             City Country  Max Temp Current Description    Lat   Lng  \\\n",
       "City_ID                                                                \n",
       "367         Coria      ES     57.99           clear sky  39.98 -6.54   \n",
       "101      Saldanha      PT     48.83    scattered clouds  41.42 -6.55   \n",
       "516        Areosa      PT     57.20       broken clouds  41.72 -8.86   \n",
       "382         Muros      ES     57.00       broken clouds  42.77 -9.06   \n",
       "\n",
       "                     Hotel Name  \n",
       "City_ID                          \n",
       "367         Hotel San Cristóbal  \n",
       "101                         NaN  \n",
       "516           Hotel Flôr de Sal  \n",
       "382      Apartment Av. Castelao  "
      ]
     },
     "execution_count": 12,
     "metadata": {},
     "output_type": "execute_result"
    }
   ],
   "source": [
    "destinations_df = (pd.concat([nepomuceno_df, arrail_do_cabo_df, ilhabela_df, porto_novo_df])).set_index(\"City_ID\")\n",
    "destinations_df"
   ]
  },
  {
   "cell_type": "code",
   "execution_count": 14,
   "metadata": {},
   "outputs": [
    {
     "data": {
      "application/vnd.jupyter.widget-view+json": {
       "model_id": "533c7734854a40249df3d63acfb76889",
       "version_major": 2,
       "version_minor": 0
      },
      "text/plain": [
       "Figure(layout=FigureLayout(height='420px'))"
      ]
     },
     "metadata": {},
     "output_type": "display_data"
    }
   ],
   "source": [
    "info_box_template = \"\"\"\n",
    "<dl>\n",
    "<dt>Hotel Name</dt><dd>{Hotel Name}</dd>\n",
    "<dt>City</dt><dd>{City}</dd>\n",
    "<dt>Country</dt><dd>{Country}</dd>\n",
    "<dt>Max Temp</dt><dd>{Max Temp} °F</dd>\n",
    "<dt>Current Description/dt><dd>{Current Description}</dd>\n",
    "</dl>\n",
    "\"\"\"\n",
    "\n",
    "# Store the DataFrame Row.\n",
    "destinations_info = [info_box_template.format(**row) for index, row in destinations_df.iterrows()]\n",
    "\n",
    "# Add a pop-up marker for each city.\n",
    "locations = destinations_df[[\"Lat\", \"Lng\"]]\n",
    "fig = gmaps.figure(center=(30.0, 31.0), zoom_level=2)\n",
    "marker_layer = gmaps.marker_layer(locations, info_box_content=destinations_info)\n",
    "fig.add_layer(marker_layer)\n",
    "\n",
    "# Call the figure to plot the data.\n",
    "fig"
   ]
  },
  {
   "cell_type": "code",
   "execution_count": null,
   "metadata": {},
   "outputs": [],
   "source": []
  }
 ],
 "metadata": {
  "kernelspec": {
   "display_name": "Python 3",
   "language": "python",
   "name": "python3"
  },
  "language_info": {
   "codemirror_mode": {
    "name": "ipython",
    "version": 3
   },
   "file_extension": ".py",
   "mimetype": "text/x-python",
   "name": "python",
   "nbconvert_exporter": "python",
   "pygments_lexer": "ipython3",
   "version": "3.6.9"
  }
 },
 "nbformat": 4,
 "nbformat_minor": 2
}
